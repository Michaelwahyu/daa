{
  "nbformat": 4,
  "nbformat_minor": 0,
  "metadata": {
    "colab": {
      "name": "DAA4.ipynb",
      "provenance": [],
      "collapsed_sections": [],
      "authorship_tag": "ABX9TyPiPajyEZrA8GyPvZt8wUPk",
      "include_colab_link": true
    },
    "kernelspec": {
      "name": "python3",
      "display_name": "Python 3"
    },
    "language_info": {
      "name": "python"
    }
  },
  "cells": [
    {
      "cell_type": "markdown",
      "metadata": {
        "id": "view-in-github",
        "colab_type": "text"
      },
      "source": [
        "<a href=\"https://colab.research.google.com/github/Michaelwahyu/daa/blob/main/DAA4.ipynb\" target=\"_parent\"><img src=\"https://colab.research.google.com/assets/colab-badge.svg\" alt=\"Open In Colab\"/></a>"
      ]
    },
    {
      "cell_type": "code",
      "metadata": {
        "id": "N6borUSehTll"
      },
      "source": [
        "#swap function\n",
        "var1 = 1\n",
        "var2 = 2\n",
        "var1,var2 = var2,var1"
      ],
      "execution_count": 120,
      "outputs": []
    },
    {
      "cell_type": "code",
      "metadata": {
        "id": "x1iRnrU0hn4n",
        "colab": {
          "base_uri": "https://localhost:8080/"
        },
        "outputId": "40523f80-87b3-4511-8cc4-2baabcce19d5"
      },
      "source": [
        "print(var1,var2)"
      ],
      "execution_count": 121,
      "outputs": [
        {
          "output_type": "stream",
          "name": "stdout",
          "text": [
            "2 1\n"
          ]
        }
      ]
    },
    {
      "cell_type": "code",
      "metadata": {
        "id": "w3mIEclsiVrc"
      },
      "source": [
        "#swap function\n",
        "var1 = 1\n",
        "var2 = 2\n",
        "var3 = 3\n",
        "var1,var2,var3 = var3,var1,var2"
      ],
      "execution_count": 122,
      "outputs": []
    },
    {
      "cell_type": "code",
      "metadata": {
        "id": "y0Lu0ndUicWh",
        "colab": {
          "base_uri": "https://localhost:8080/"
        },
        "outputId": "c813c00b-afe7-41c3-eee3-c230572d10a6"
      },
      "source": [
        "print(var1,var2,var3)"
      ],
      "execution_count": 123,
      "outputs": [
        {
          "output_type": "stream",
          "name": "stdout",
          "text": [
            "3 1 2\n"
          ]
        }
      ]
    },
    {
      "cell_type": "code",
      "metadata": {
        "id": "FYvAyh_PjeH-"
      },
      "source": [
        "list = [25,21,22,24,23,27,26]"
      ],
      "execution_count": 124,
      "outputs": []
    },
    {
      "cell_type": "code",
      "metadata": {
        "id": "52R4nr6zjeUD",
        "colab": {
          "base_uri": "https://localhost:8080/"
        },
        "outputId": "9896a16c-aebd-4643-b46f-3111adabbc8a"
      },
      "source": [
        "lastElementIndex = len(list)-1\n",
        "print(0,list)\n",
        "for idx in range(lastElementIndex):\n",
        "                if list[idx]>list[idx+1]:\n",
        "                    list[idx],list[idx+1]=list[idx+1],list[idx]\n",
        "                print(idx+1,list)"
      ],
      "execution_count": 125,
      "outputs": [
        {
          "output_type": "stream",
          "name": "stdout",
          "text": [
            "0 [25, 21, 22, 24, 23, 27, 26]\n",
            "1 [21, 25, 22, 24, 23, 27, 26]\n",
            "2 [21, 22, 25, 24, 23, 27, 26]\n",
            "3 [21, 22, 24, 25, 23, 27, 26]\n",
            "4 [21, 22, 24, 23, 25, 27, 26]\n",
            "5 [21, 22, 24, 23, 25, 27, 26]\n",
            "6 [21, 22, 24, 23, 25, 26, 27]\n"
          ]
        }
      ]
    },
    {
      "cell_type": "code",
      "metadata": {
        "id": "QQblIxdbnQZk",
        "colab": {
          "base_uri": "https://localhost:8080/"
        },
        "outputId": "111d3124-cf9b-4938-ed58-9268770a2609"
      },
      "source": [
        "list"
      ],
      "execution_count": 126,
      "outputs": [
        {
          "output_type": "execute_result",
          "data": {
            "text/plain": [
              "[21, 22, 24, 23, 25, 26, 27]"
            ]
          },
          "metadata": {},
          "execution_count": 126
        }
      ]
    },
    {
      "cell_type": "code",
      "metadata": {
        "id": "8eyC3cxWmU8M"
      },
      "source": [
        "def BubbleSort(list):\n",
        "# Tukarkan elemen untuk diatur secara berurutan\n",
        "    lastElementIndex = len(list)-1\n",
        "    for passNo in range(lastElementIndex,0,-1):\n",
        "        for idx in range(passNo):\n",
        "            if list[idx]>list[idx+1]:\n",
        "                list[idx],list[idx+1]=list[idx+1],list[idx]\n",
        "    return list"
      ],
      "execution_count": 127,
      "outputs": []
    },
    {
      "cell_type": "code",
      "metadata": {
        "id": "1k-pQG5EnXI3"
      },
      "source": [
        "#masukkan angka dengan urutan lainnya\n",
        "\n",
        "list = [25,21,22,24,23,27,26]"
      ],
      "execution_count": 128,
      "outputs": []
    },
    {
      "cell_type": "code",
      "metadata": {
        "id": "XpO-JEtTniCD",
        "colab": {
          "base_uri": "https://localhost:8080/"
        },
        "outputId": "93d7d64f-5a4f-4d1d-cb6a-2bcdf64e0667"
      },
      "source": [
        "BubbleSort(list)"
      ],
      "execution_count": 129,
      "outputs": [
        {
          "output_type": "execute_result",
          "data": {
            "text/plain": [
              "[21, 22, 23, 24, 25, 26, 27]"
            ]
          },
          "metadata": {},
          "execution_count": 129
        }
      ]
    },
    {
      "cell_type": "code",
      "metadata": {
        "id": "PFGVfaRanp8G",
        "colab": {
          "base_uri": "https://localhost:8080/"
        },
        "outputId": "e50c8d69-8153-4dcf-bdbe-31e5095d32bc"
      },
      "source": [
        "list"
      ],
      "execution_count": 130,
      "outputs": [
        {
          "output_type": "execute_result",
          "data": {
            "text/plain": [
              "[21, 22, 23, 24, 25, 26, 27]"
            ]
          },
          "metadata": {},
          "execution_count": 130
        }
      ]
    },
    {
      "cell_type": "code",
      "metadata": {
        "id": "OewIU8RUp2Nj"
      },
      "source": [
        "list = [100,20,60,90,40,30,10]"
      ],
      "execution_count": 131,
      "outputs": []
    },
    {
      "cell_type": "code",
      "metadata": {
        "id": "ECBSj8F1qOZG",
        "colab": {
          "base_uri": "https://localhost:8080/"
        },
        "outputId": "0820e6f1-98e7-457f-d18d-7cf5365f4baa"
      },
      "source": [
        "BubbleSort(list)"
      ],
      "execution_count": 132,
      "outputs": [
        {
          "output_type": "execute_result",
          "data": {
            "text/plain": [
              "[10, 20, 30, 40, 60, 90, 100]"
            ]
          },
          "metadata": {},
          "execution_count": 132
        }
      ]
    },
    {
      "cell_type": "code",
      "metadata": {
        "id": "h3KYFAC4qUpA",
        "colab": {
          "base_uri": "https://localhost:8080/"
        },
        "outputId": "d5f14c88-6381-4b03-c71b-dd6cd435543b"
      },
      "source": [
        "list"
      ],
      "execution_count": 133,
      "outputs": [
        {
          "output_type": "execute_result",
          "data": {
            "text/plain": [
              "[10, 20, 30, 40, 60, 90, 100]"
            ]
          },
          "metadata": {},
          "execution_count": 133
        }
      ]
    },
    {
      "cell_type": "code",
      "metadata": {
        "id": "emPU-ASRrnuU"
      },
      "source": [
        "def InsertionSort(list):\n",
        "    for i in range(1, len(list)):\n",
        "        j = i-1\n",
        "        next = list[i]\n",
        "# bandingkan elemen saat ini dengan elemen berikutnya\n",
        "\n",
        "        while (list[j] > next) and (j >= 0):\n",
        "            list[j+1] = list[j]\n",
        "            j=j-1\n",
        "        list[j+1] = next\n",
        "    return list"
      ],
      "execution_count": 134,
      "outputs": []
    },
    {
      "cell_type": "code",
      "metadata": {
        "id": "UnDNU1susdZy"
      },
      "source": [
        "list = [35,31,32,34,33,37,36]"
      ],
      "execution_count": 135,
      "outputs": []
    },
    {
      "cell_type": "code",
      "metadata": {
        "id": "yhZDAO9Bskkd",
        "colab": {
          "base_uri": "https://localhost:8080/"
        },
        "outputId": "b86c85f8-c9ba-44a0-f5c0-5577773f1447"
      },
      "source": [
        "list"
      ],
      "execution_count": 136,
      "outputs": [
        {
          "output_type": "execute_result",
          "data": {
            "text/plain": [
              "[35, 31, 32, 34, 33, 37, 36]"
            ]
          },
          "metadata": {},
          "execution_count": 136
        }
      ]
    },
    {
      "cell_type": "code",
      "metadata": {
        "id": "O7wjahkEss_W",
        "colab": {
          "base_uri": "https://localhost:8080/"
        },
        "outputId": "4aa484dc-6962-4a9d-da91-76554665bef2"
      },
      "source": [
        "InsertionSort(list)"
      ],
      "execution_count": 137,
      "outputs": [
        {
          "output_type": "execute_result",
          "data": {
            "text/plain": [
              "[31, 32, 33, 34, 35, 36, 37]"
            ]
          },
          "metadata": {},
          "execution_count": 137
        }
      ]
    },
    {
      "cell_type": "code",
      "metadata": {
        "id": "vK-WMRLIu6aL"
      },
      "source": [
        "list = [89,12,57,16,25,11,75]"
      ],
      "execution_count": 138,
      "outputs": []
    },
    {
      "cell_type": "code",
      "metadata": {
        "id": "EsqqcS2RvAcf",
        "colab": {
          "base_uri": "https://localhost:8080/"
        },
        "outputId": "af33d01b-0f9f-4d02-cac6-5c97c513e8cc"
      },
      "source": [
        "InsertionSort(list)"
      ],
      "execution_count": 139,
      "outputs": [
        {
          "output_type": "execute_result",
          "data": {
            "text/plain": [
              "[11, 12, 16, 25, 57, 75, 89]"
            ]
          },
          "metadata": {},
          "execution_count": 139
        }
      ]
    },
    {
      "cell_type": "code",
      "metadata": {
        "id": "c5R7yTtEwnYX"
      },
      "source": [
        "def SelectionSort(list):\n",
        "    for fill_slot in range(len(list) -1,0, -1):\n",
        "        max_index = 0\n",
        "        for location in range(1, fill_slot +1):\n",
        "            if list[location] > list[max_index]:\n",
        "                max_index = location\n",
        "        list[fill_slot],list[max_index] = list[max_index],list[fill_slot]\n",
        "    return list"
      ],
      "execution_count": 140,
      "outputs": []
    },
    {
      "cell_type": "code",
      "metadata": {
        "id": "ItOVx11Xxmo3"
      },
      "source": [
        "list = [70,15,25,19,34,44]"
      ],
      "execution_count": 141,
      "outputs": []
    },
    {
      "cell_type": "code",
      "metadata": {
        "id": "9QL6s0rgyGKg",
        "colab": {
          "base_uri": "https://localhost:8080/"
        },
        "outputId": "a148e3a1-e139-495c-bc53-8eded4148f6b"
      },
      "source": [
        "SelectionSort(list)"
      ],
      "execution_count": 142,
      "outputs": [
        {
          "output_type": "execute_result",
          "data": {
            "text/plain": [
              "[15, 19, 25, 34, 44, 70]"
            ]
          },
          "metadata": {},
          "execution_count": 142
        }
      ]
    },
    {
      "cell_type": "code",
      "metadata": {
        "id": "dwq2cWaD1j3f"
      },
      "source": [
        "list = [89,12,57,16,25]"
      ],
      "execution_count": 143,
      "outputs": []
    },
    {
      "cell_type": "code",
      "metadata": {
        "id": "BkpRjcxK1w49",
        "colab": {
          "base_uri": "https://localhost:8080/"
        },
        "outputId": "3432992a-2e69-4fd4-9ddf-b31e066e4d40"
      },
      "source": [
        "SelectionSort(list)"
      ],
      "execution_count": 144,
      "outputs": [
        {
          "output_type": "execute_result",
          "data": {
            "text/plain": [
              "[12, 16, 25, 57, 89]"
            ]
          },
          "metadata": {},
          "execution_count": 144
        }
      ]
    },
    {
      "cell_type": "code",
      "metadata": {
        "id": "hsqHyjSZGsAY"
      },
      "source": [
        "def LinearSearch(list, item):\n",
        "    index = 0\n",
        "    found = False\n",
        "\n",
        "# Cocokkan nilai dengan setiap pernyataan data\n",
        "    while index < len(list) and found is False:\n",
        "        if list[index] == item:\n",
        "            found = True\n",
        "        else:\n",
        "            index = index + 1\n",
        "    return found"
      ],
      "execution_count": 145,
      "outputs": []
    },
    {
      "cell_type": "code",
      "metadata": {
        "id": "m0Ybr4iIHZJO",
        "colab": {
          "base_uri": "https://localhost:8080/"
        },
        "outputId": "ca427cc1-7e43-4078-f383-cc6e8c1b5196"
      },
      "source": [
        "list = [12, 33, 11, 99, 22, 55, 90]\n",
        "print(LinearSearch(list, 12))\n",
        "print(LinearSearch(list, 91))"
      ],
      "execution_count": 146,
      "outputs": [
        {
          "output_type": "stream",
          "name": "stdout",
          "text": [
            "True\n",
            "False\n"
          ]
        }
      ]
    },
    {
      "cell_type": "code",
      "metadata": {
        "id": "4Veq0A2xLBIv",
        "colab": {
          "base_uri": "https://localhost:8080/"
        },
        "outputId": "52b8d964-ea27-42d3-f7e6-6d608ceb4b15"
      },
      "source": [
        "deret = ['y', 'u', 'i', 'w', 'o', 'q', 'u', 'j', 'p']\n",
        "print(LinearSearch(deret, 'a'))"
      ],
      "execution_count": 147,
      "outputs": [
        {
          "output_type": "stream",
          "name": "stdout",
          "text": [
            "False\n"
          ]
        }
      ]
    },
    {
      "cell_type": "code",
      "metadata": {
        "id": "1AkTFKjvMrYk"
      },
      "source": [
        "def BinarySearch(list, item):\n",
        "    first = 0\n",
        "    last = len(list)-1\n",
        "    found = False\n",
        "    \n",
        "    while first<=last and not found:\n",
        "        midpoint = (first + last)//2\n",
        "        if list[midpoint] == item:\n",
        "            found = True\n",
        "        else:\n",
        "            if item < list[midpoint]:\n",
        "                last = midpoint-1\n",
        "            else:\n",
        "                first = midpoint-1\n",
        "    return found"
      ],
      "execution_count": 148,
      "outputs": []
    },
    {
      "cell_type": "code",
      "metadata": {
        "colab": {
          "base_uri": "https://localhost:8080/"
        },
        "id": "b2R0CkpaQ87Q",
        "outputId": "7d953523-fca2-48d0-8e2b-65f3e51fba59"
      },
      "source": [
        "list = ['y', 'u', 'i', 'w', 'o', 'a', 'q', 'u', 'j', 'p']\n",
        "sorted_list = BubbleSort(list)\n",
        "print(BinarySearch(list, 'a'))"
      ],
      "execution_count": 150,
      "outputs": [
        {
          "output_type": "stream",
          "name": "stdout",
          "text": [
            "True\n"
          ]
        }
      ]
    },
    {
      "cell_type": "code",
      "metadata": {
        "id": "E_T0JDRURptC"
      },
      "source": [
        "def IntPolsearch(list,x ):\n",
        "  idx0 = 0\n",
        "  idxn = (len(list) - 1)\n",
        "  found = False\n",
        "  while idx0 <= idxn and x >= list[idx0] and x <= list[idxn]:\n",
        "\n",
        "# Temukan titik tengahnya\n",
        "      mid = idx0 + int(((float(idxn - idx0)/( list[idxn] - list[idx0])) * ( x - list[idx0])))\n",
        "\n",
        "# bandingkan nilai pada titik tengah dengan nilai pencarian\n",
        "      if list[mid] == x:\n",
        "          found = True\n",
        "          return found\n",
        "\n",
        "      if list[mid] < x:\n",
        "          idx0 = mid + 1\n",
        "  return found"
      ],
      "execution_count": 162,
      "outputs": []
    },
    {
      "cell_type": "code",
      "metadata": {
        "colab": {
          "base_uri": "https://localhost:8080/"
        },
        "id": "z8ApQJnSTcVU",
        "outputId": "19a9ee54-56e8-4726-cc96-586008e4bcbe"
      },
      "source": [
        "list = [12, 33, 11, 99, 22, 55, 90]\n",
        "sorted_list = BubbleSort(list)\n",
        "print(IntPolsearch(list, 12))\n",
        "print(IntPolsearch(list, 91))"
      ],
      "execution_count": 160,
      "outputs": [
        {
          "output_type": "stream",
          "name": "stdout",
          "text": [
            "True\n",
            "False\n"
          ]
        }
      ]
    },
    {
      "cell_type": "code",
      "metadata": {
        "colab": {
          "base_uri": "https://localhost:8080/"
        },
        "id": "3gKz4MgrU6xq",
        "outputId": "1acf1254-5f77-4646-dbc9-f32b71f3589d"
      },
      "source": [
        "list = [20, 2, 0, 0, 7, 1, 0, 0, 9]\n",
        "sorted_list = BubbleSort(list)\n",
        "print(IntPolsearch(list, 2))"
      ],
      "execution_count": 167,
      "outputs": [
        {
          "output_type": "stream",
          "name": "stdout",
          "text": [
            "True\n"
          ]
        }
      ]
    }
  ]
}